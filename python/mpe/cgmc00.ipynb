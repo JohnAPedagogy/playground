{
 "cells": [
  {
   "cell_type": "markdown",
   "metadata": {},
   "source": [
    "## Lesson 1 - Introduction\n",
    "Welcome the Chat GPT master class.  In this class you will learn what chat gpt is on a 'how-does-this-work' high level understanding basis, and how to use it to build a business.  The live coding playground can be found [here](https://mybinder.org/v2/gh/JohnAPedagogy/playground/HEAD?urlpath=https%3A%2F%2Fgithub.com%2FJohnAPedagogy%2Fplayground%2Fblob%2Fmain%2Fpython%2Fmpe%2Fcgmc00.ipynb).  If this sounds interesting, let's dig in."
   ]
  },
  {
   "cell_type": "markdown",
   "metadata": {},
   "source": [
    "### 1.1 What is Chat GPT?\n",
    "Whenever a progam enhanced with artificial intelligence is capable to respsond to a human being by generating responses to text input from a computer in a conversional manner.  Such a program is known chat bot.\n",
    "\n",
    "Chat GPT is a special class of chat bots that have been trained on a very large body of text. Typically above 50GB and into terabytes of data.  These type training models are known as large langauge models (LLMs).  GPT is an acronym for Generative Pretrained Transformers and gives an indication into the technology behind chat GPT.  This is a classic supervised training regime where the model uses tha large body to text as an examples of how to predict the next word based on the previous words.  In addition it uses a special class of neural network known as Transformers to maintain semantic information across sequence lengths.  In summary the language model does not only tracks word sequences but also the logical meaning of the sentences and paragraphs it processes, so that when it generates it own text it is logically consistent with human understaning of the grammar used."
   ]
  },
  {
   "cell_type": "markdown",
   "metadata": {},
   "source": [
    "### 1.2 Chat GPT Uses\n",
    "Enough of the technical details.  Let's dive into using Chat GPT.  According to Andrew NG in the deeplearning.ai prompt engineering [course](https://learn.deeplearning.ai/chatgpt-prompt-eng/), where a lot of the material in this master class is drawn from, chat GPT excels in the following areas:\n",
    "  - Summarising\n",
    "  - Inferring\n",
    "  - transforming\n",
    "  - expanding  \n",
    "  - code generation\n",
    "\n",
    "Generally, we will be using chat GPT as a question answering and code generation tool to help us build a business from scratch."
   ]
  }
 ],
 "metadata": {
  "kernelspec": {
   "display_name": "Python 3.10.3 64-bit",
   "language": "python",
   "name": "python3"
  },
  "language_info": {
   "name": "python",
   "version": "3.10.3"
  },
  "orig_nbformat": 4,
  "vscode": {
   "interpreter": {
    "hash": "369f2c481f4da34e4445cda3fffd2e751bd1c4d706f27375911949ba6bb62e1c"
   }
  }
 },
 "nbformat": 4,
 "nbformat_minor": 2
}
