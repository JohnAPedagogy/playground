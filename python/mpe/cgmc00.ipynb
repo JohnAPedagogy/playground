{
 "cells": [
  {
   "cell_type": "markdown",
   "metadata": {},
   "source": [
    "## Introduction\n",
    "Welcome the Chat GPT master class.  In this class you will learn what chat gpt is on a 'how-does-this-work' high level understanding basis, and how to use it to build a business.  If this sounds interesting, let's dig in."
   ]
  },
  {
   "cell_type": "markdown",
   "metadata": {},
   "source": [
    "### What is Chat GPT\n"
   ]
  }
 ],
 "metadata": {
  "language_info": {
   "name": "python"
  },
  "orig_nbformat": 4
 },
 "nbformat": 4,
 "nbformat_minor": 2
}
